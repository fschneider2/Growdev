{
 "cells": [
  {
   "cell_type": "code",
   "execution_count": 11,
   "metadata": {},
   "outputs": [],
   "source": [
    "from keras.models import Sequential\n",
    "from keras.layers import Conv2D, MaxPooling2D, Dense, Flatten\n",
    "from keras.utils import to_categorical\n",
    "from keras.datasets import fashion_mnist\n",
    "import matplotlib.pyplot as plt\n",
    "import numpy as np"
   ]
  },
  {
   "cell_type": "code",
   "execution_count": 12,
   "metadata": {},
   "outputs": [],
   "source": [
    "(x_train, y_train), (x_test, y_test) = fashion_mnist.load_data()"
   ]
  },
  {
   "cell_type": "code",
   "execution_count": 13,
   "metadata": {},
   "outputs": [],
   "source": [
    "x_train = x_train / 255\n",
    "x_test = x_test / 255"
   ]
  },
  {
   "cell_type": "code",
   "execution_count": 14,
   "metadata": {},
   "outputs": [
    {
     "name": "stdout",
     "output_type": "stream",
     "text": [
      "(28, 28)\n"
     ]
    },
    {
     "data": {
      "image/png": "[encoded data removed]",
      "text/plain": [
       "<Figure size 432x288 with 1 Axes>"
      ]
     },
     "metadata": {
      "needs_background": "light"
     },
     "output_type": "display_data"
    }
   ],
   "source": [
    "index = 352\n",
    "\n",
    "classe = y_train[index]\n",
    "\n",
    "print(x_train[index].shape)\n",
    "\n",
    "plt.imshow(x_train[index])\n",
    "plt.show()"
   ]
  },
  {
   "cell_type": "code",
   "execution_count": 15,
   "metadata": {},
   "outputs": [],
   "source": [
    "x_train = np.expand_dims(x_train, -1)\n",
    "x_test = np.expand_dims(x_test, -1)"
   ]
  },
  {
   "cell_type": "code",
   "execution_count": 16,
   "metadata": {},
   "outputs": [],
   "source": [
    "y_train = to_categorical(y_train)\n",
    "y_test = to_categorical(y_test)"
   ]
  },
  {
   "cell_type": "code",
   "execution_count": 8,
   "metadata": {},
   "outputs": [],
   "source": [
    "model = Sequential()\n",
    "model.add(Conv2D(64, kernel_size=(3,3), activation='relu'))\n",
    "model.add(Conv2D(32, kernel_size=(3,3), activation='relu'))\n",
    "model.add(MaxPooling2D(pool_size=(2,2)))\n",
    "model.add(Flatten())\n",
    "model.add(Dense(2000, activation='relu'))\n",
    "model.add(Dense(500, activation='relu'))\n",
    "model.add(Dense(10, activation='softmax'))\n",
    "\n",
    "model.compile(optimizer='adam', loss='categorical_crossentropy', metrics=['accuracy'])"
   ]
  },
  {
   "cell_type": "code",
   "execution_count": 9,
   "metadata": {},
   "outputs": [
    {
     "name": "stdout",
     "output_type": "stream",
     "text": [
      "Epoch 1/15\n",
      "625/625 [==============================] - 78s 123ms/step - loss: 0.4543 - accuracy: 0.8328\n",
      "Epoch 2/15\n",
      "625/625 [==============================] - 76s 122ms/step - loss: 0.2996 - accuracy: 0.8896\n",
      "Epoch 3/15\n",
      "625/625 [==============================] - 74s 119ms/step - loss: 0.2536 - accuracy: 0.9058\n",
      "Epoch 4/15\n",
      "625/625 [==============================] - 77s 124ms/step - loss: 0.2210 - accuracy: 0.9171\n",
      "Epoch 5/15\n",
      "625/625 [==============================] - 84s 135ms/step - loss: 0.1922 - accuracy: 0.9274\n",
      "Epoch 6/15\n",
      "625/625 [==============================] - 93s 148ms/step - loss: 0.1692 - accuracy: 0.9351\n",
      "Epoch 7/15\n",
      "625/625 [==============================] - 79s 127ms/step - loss: 0.1488 - accuracy: 0.9440\n",
      "Epoch 8/15\n",
      "625/625 [==============================] - 92s 147ms/step - loss: 0.1278 - accuracy: 0.9495\n",
      "Epoch 9/15\n",
      "625/625 [==============================] - 102s 163ms/step - loss: 0.1084 - accuracy: 0.9576\n",
      "Epoch 10/15\n",
      "625/625 [==============================] - 97s 156ms/step - loss: 0.0981 - accuracy: 0.9628\n",
      "Epoch 11/15\n",
      "625/625 [==============================] - 92s 147ms/step - loss: 0.0810 - accuracy: 0.9694\n",
      "Epoch 12/15\n",
      "625/625 [==============================] - 95s 152ms/step - loss: 0.0698 - accuracy: 0.9731\n",
      "Epoch 13/15\n",
      "625/625 [==============================] - 79s 127ms/step - loss: 0.0593 - accuracy: 0.9768\n",
      "Epoch 14/15\n",
      "625/625 [==============================] - 88s 140ms/step - loss: 0.0541 - accuracy: 0.9797\n",
      "Epoch 15/15\n",
      "625/625 [==============================] - 85s 136ms/step - loss: 0.0497 - accuracy: 0.9820\n"
     ]
    },
    {
     "data": {
      "text/plain": [
       "<keras.callbacks.History at 0x7f8023d59db0>"
      ]
     },
     "execution_count": 9,
     "metadata": {},
     "output_type": "execute_result"
    }
   ],
   "source": [
    "model.fit(x_train, y_train, batch_size=96, epochs=15)"
   ]
  },
  {
   "cell_type": "code",
   "execution_count": 10,
   "metadata": {},
   "outputs": [
    {
     "name": "stdout",
     "output_type": "stream",
     "text": [
      "313/313 [==============================] - 4s 11ms/step - loss: 0.4339 - accuracy: 0.9098\n"
     ]
    }
   ],
   "source": [
    "loss, accuracy = model.evaluate(x_test, y_test)"
   ]
  },
  {
   "cell_type": "code",
   "execution_count": 10,
   "metadata": {},
   "outputs": [],
   "source": [
    "# matriz = confusion_matrix(y_predict, y_test)\n",
    "\n",
    "# class_ = [\"Anão Vermelho\", \"Anã Marrom \",\"Anã Branca\", \"Sequência Principal\", \"Supergigantes\",\"Hipergigantes\"]\n",
    "\n",
    "# fig = plt.figure(figsize=(10,4))\n",
    "\n",
    "# fig.suptitle(f'Matriz de Confusão ', fontsize=14, fontweight='bold')\n",
    "\n",
    "# sns.heatmap(matriz, annot=True, cmap = 'YlOrBr', xticklabels= class_, yticklabels= class_)\n"
   ]
  }
 ],
 "metadata": {
  "kernelspec": {
   "display_name": "Python 3",
   "language": "python",
   "name": "python3"
  },
  "language_info": {
   "codemirror_mode": {
    "name": "ipython",
    "version": 3
   },
   "file_extension": ".py",
   "mimetype": "text/x-python",
   "name": "python",
   "nbconvert_exporter": "python",
   "pygments_lexer": "ipython3",
   "version": "3.10.6"
  },
  "orig_nbformat": 4,
  "vscode": {
   "interpreter": {
    "hash": "31f2aee4e71d21fbe5cf8b01ff0e069b9275f58929596ceb00d14d90e3e16cd6"
   }
  }
 },
 "nbformat": 4,
 "nbformat_minor": 2
}
